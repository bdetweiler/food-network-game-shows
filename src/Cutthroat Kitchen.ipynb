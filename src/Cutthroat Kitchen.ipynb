{
 "cells": [
  {
   "cell_type": "markdown",
   "metadata": {},
   "source": [
    "# Is Cutthroat Kitchen Predictable?"
   ]
  },
  {
   "cell_type": "code",
   "execution_count": 52,
   "metadata": {
    "collapsed": false
   },
   "outputs": [
    {
     "name": "stdout",
     "output_type": "stream",
     "text": [
      "[1, 3, 1, 4, 4, 2, 3, 3, 3, 2, 4, 2, 4, 1, 2]\n",
      "[1, 1, 2, 1, 2, 2, 3, 2, 2, 2, 3, 3, 3, 2, 3, 1, 3]\n"
     ]
    },
    {
     "data": {
      "image/png": "[encoded data removed]",
      "text/plain": [
       "<matplotlib.figure.Figure at 0x7fa78c2619d0>"
      ]
     },
     "metadata": {},
     "output_type": "display_data"
    }
   ],
   "source": [
    "%matplotlib inline\n",
    "import csv\n",
    "from matplotlib import pyplot as plt\n",
    "\n",
    "with open('../data/cutthroat_kitchen.csv', 'rb') as csvfile:\n",
    "    cutthroat = csv.reader(csvfile, delimiter=',')\n",
    "    \n",
    "    count = 0\n",
    "    first_round_pre_commercial_order_count_arr = []\n",
    "    first_round_post_commercial_order_count_arr = []\n",
    "    for row in cutthroat:\n",
    "        chef_arr = []\n",
    "        count += 1        \n",
    "        # Skip header\n",
    "        if (count == 1):\n",
    "            continue\n",
    "            \n",
    "        chef_arr.append(row[1])\n",
    "        chef_arr.append(row[2])\n",
    "        chef_arr.append(row[3])\n",
    "        chef_arr.append(row[4])\n",
    "        \n",
    "        #########################################################################\n",
    "        #          ROUND ONE\n",
    "        #########################################################################\n",
    "        \n",
    "        first_round_loser = row[6]\n",
    "        first_round_alton_talking_pre_commercial_order_arr = list(row[8])\n",
    "        first_round_alton_talking_post_commercial_order_arr = list(row[9])\n",
    "        first_round_pre_commercial_order_arr = list(row[10])\n",
    "        first_round_post_commercial_order_arr = list(row[11])\n",
    "        \n",
    "        for i in range(0, len(first_round_pre_commercial_order_arr)):\n",
    "            if (first_round_pre_commercial_order_arr[i] == first_round_loser):\n",
    "                first_round_pre_commercial_order_count_arr.append(i + 1)\n",
    "                \n",
    "        for i in range(0, len(first_round_alton_talking_pre_commercial_order_arr)):\n",
    "            if (first_round_alton_talking_pre_commercial_order_arr[i] == first_round_loser):\n",
    "                first_round_pre_commercial_order_count_arr.append(i + 1)\n",
    "                \n",
    "        for i in range(0, len(first_round_post_commercial_order_arr)):\n",
    "            if (first_round_post_commercial_order_arr[i] == first_round_loser):\n",
    "                first_round_post_commercial_order_count_arr.append(i + 1)\n",
    "                \n",
    "        for i in range(0, len(first_round_alton_talking_post_commercial_order_arr)):\n",
    "            if (first_round_alton_talking_post_commercial_order_arr[i] == first_round_loser):\n",
    "                first_round_post_commercial_order_count_arr.append(i + 1)\n",
    "        \n",
    "        second_round_loser = row[12]\n",
    "        final_round_loser = row[18]\n",
    "        \n",
    "\n",
    "    print first_round_pre_commercial_order_count_arr\n",
    "    print first_round_post_commercial_order_count_arr\n",
    "    \n",
    "    plt.hist(first_round_pre_commercial_order_count_arr, histtype='bar', stacked=True, color='blue', label='pre-commercial')\n",
    "    plt.hist(first_round_post_commercial_order_count_arr, histtype='bar', stacked=True, color='green', label='post-commercial')\n",
    "    plt.legend()\n",
    "    plt.show()"
   ]
  },
  {
   "cell_type": "code",
   "execution_count": 53,
   "metadata": {
    "collapsed": false
   },
   "outputs": [
    {
     "data": {
      "image/png": "[encoded data removed]",
      "text/plain": [
       "<matplotlib.figure.Figure at 0x7fa78c4a05d0>"
      ]
     },
     "metadata": {},
     "output_type": "display_data"
    }
   ],
   "source": [
    "\n",
    "with open('../data/cutthroat_kitchen.csv', 'rb') as csvfile:\n",
    "    cutthroat = csv.reader(csvfile, delimiter=',')\n",
    "    \n",
    "    count = 0\n",
    "    second_round_pre_commercial_order_count_arr = []\n",
    "    second_round_post_commercial_order_count_arr = []\n",
    "    for row in cutthroat:\n",
    "        chef_arr = []\n",
    "        count += 1        \n",
    "        # Skip header\n",
    "        if (count == 1):\n",
    "            continue\n",
    "            \n",
    "        chef_arr.append(row[1])\n",
    "        chef_arr.append(row[2])\n",
    "        chef_arr.append(row[3])\n",
    "        chef_arr.append(row[4])\n",
    "        \n",
    "        #########################################################################\n",
    "        #          ROUND TWO\n",
    "        #########################################################################\n",
    "        \n",
    "        second_round_loser = row[12]\n",
    "        second_round_alton_talking_pre_commercial_order_arr = list(row[14])\n",
    "        second_round_alton_talking_post_commercial_order_arr = list(row[15])\n",
    "        second_round_pre_commercial_order_arr = list(row[16])\n",
    "        second_round_post_commercial_order_arr = list(row[17])\n",
    "        \n",
    "        for i in range(0, len(second_round_pre_commercial_order_arr)):\n",
    "            if (second_round_pre_commercial_order_arr[i] == second_round_loser):\n",
    "                second_round_pre_commercial_order_count_arr.append(i + 1.1)\n",
    "                \n",
    "        for i in range(0, len(second_round_alton_talking_pre_commercial_order_arr)):\n",
    "            if (second_round_alton_talking_pre_commercial_order_arr[i] == second_round_loser):\n",
    "                second_round_pre_commercial_order_count_arr.append(i + 1.1)\n",
    "                \n",
    "        for i in range(0, len(second_round_post_commercial_order_arr)):\n",
    "            if (second_round_post_commercial_order_arr[i] == second_round_loser):\n",
    "                second_round_post_commercial_order_count_arr.append(i + 1)\n",
    "                \n",
    "        for i in range(0, len(second_round_alton_talking_post_commercial_order_arr)):\n",
    "            if (second_round_alton_talking_post_commercial_order_arr[i] == second_round_loser):\n",
    "                second_round_post_commercial_order_count_arr.append(i + 1)\n",
    "        \n",
    "\n",
    "        final_round_loser = row[18]\n",
    "        \n",
    "    \n",
    "    plt.hist(second_round_pre_commercial_order_count_arr, color='blue', label='pre-commercial')\n",
    "    plt.hist(second_round_post_commercial_order_count_arr, color='green', label='post-commercial')\n",
    "    plt.legend()\n",
    "    plt.show()"
   ]
  },
  {
   "cell_type": "code",
   "execution_count": 54,
   "metadata": {
    "collapsed": false
   },
   "outputs": [
    {
     "data": {
      "image/png": "[encoded data removed]",
      "text/plain": [
       "<matplotlib.figure.Figure at 0x7fa78c5e4490>"
      ]
     },
     "metadata": {},
     "output_type": "display_data"
    }
   ],
   "source": [
    "\n",
    "with open('../data/cutthroat_kitchen.csv', 'rb') as csvfile:\n",
    "    cutthroat = csv.reader(csvfile, delimiter=',')\n",
    "    \n",
    "    count = 0\n",
    "    final_round_order_count_arr = []\n",
    "\n",
    "    for row in cutthroat:\n",
    "        chef_arr = []\n",
    "        count += 1        \n",
    "        # Skip header\n",
    "        if (count == 1):\n",
    "            continue\n",
    "            \n",
    "        chef_arr.append(row[1])\n",
    "        chef_arr.append(row[2])\n",
    "        chef_arr.append(row[3])\n",
    "        chef_arr.append(row[4])\n",
    "        \n",
    "        #########################################################################\n",
    "        #          FINAL ROUND\n",
    "        #########################################################################\n",
    "        \n",
    "        final_round_loser = row[18]\n",
    "        final_round_alton_talking_order_arr = list(row[20])\n",
    "\n",
    "        for i in range(0, len(final_round_alton_talking_order_arr)):\n",
    "            if (final_round_alton_talking_order_arr[i] == second_round_loser):\n",
    "                final_round_order_count_arr.append(i + 1.1)\n",
    "        \n",
    "\n",
    "        \n",
    "    \n",
    "    plt.hist(final_round_order_count_arr, color='blue', label='pre-commercial')\n",
    "    plt.legend()\n",
    "    plt.show()"
   ]
  },
  {
   "cell_type": "markdown",
   "metadata": {},
   "source": [
    "## And at this point, I'm not getting any strong indicators to see that it's anything more than random. I had hoped there would be more of a pattern.\n",
    "\n",
    "So I am change my hypothesis from \"I think they're trying so hard to trick the audience that it is not random\" to, \"I think they're striving for drama so hard, it ends up actually being somewhat random.\""
   ]
  },
  {
   "cell_type": "code",
   "execution_count": null,
   "metadata": {
    "collapsed": true
   },
   "outputs": [],
   "source": []
  }
 ],
 "metadata": {
  "kernelspec": {
   "display_name": "Python 2",
   "language": "python",
   "name": "python2"
  },
  "language_info": {
   "codemirror_mode": {
    "name": "ipython",
    "version": 2
   },
   "file_extension": ".py",
   "mimetype": "text/x-python",
   "name": "python",
   "nbconvert_exporter": "python",
   "pygments_lexer": "ipython2",
   "version": "2.7.10"
  }
 },
 "nbformat": 4,
 "nbformat_minor": 0
}
